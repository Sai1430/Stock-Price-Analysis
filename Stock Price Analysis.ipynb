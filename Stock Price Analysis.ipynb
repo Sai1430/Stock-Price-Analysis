{
 "cells": [
  {
   "cell_type": "code",
   "execution_count": 18,
   "metadata": {},
   "outputs": [],
   "source": [
    "#pip install pandas_datareader\n",
    "#pip install dash\n",
    "#pip install yfinance\n",
    "\n",
    "# importing required libraries\n",
    "import datetime\n",
    "import yfinance as yf\n",
    "import dash\n",
    "import dash_core_components as dcc\n",
    "import dash_html_components as html\n",
    "from dash.dependencies import Input, Output\n"
   ]
  },
  {
   "cell_type": "code",
   "execution_count": 13,
   "metadata": {},
   "outputs": [],
   "source": [
    "app = dash.Dash()\n",
    "app.title = \"Stock Visualisation\"\n",
    "\n",
    "app.layout = html.Div(children=[\n",
    "\thtml.H1(\"Stock Visualisation Dashboard\"),\n",
    "\thtml.H4(\"Please enter the stock name\"),\n",
    "\tdcc.Input(id='input', value='AAPL', type='text'),\n",
    "\thtml.Div(id='output-graph')\n",
    "])\n"
   ]
  },
  {
   "cell_type": "code",
   "execution_count": 19,
   "metadata": {},
   "outputs": [],
   "source": [
    "# callback Decorator\n",
    "import webbrowser\n",
    "\n",
    "\n",
    "@app.callback(\n",
    "\tOutput(component_id='output-graph', component_property='children'),\n",
    "\t[Input(component_id='input', component_property='value')]\n",
    ")\n",
    "def update_graph(input_data):\n",
    "\tstart = datetime.datetime(2010, 1, 1)\n",
    "\tend = datetime.datetime.now()\n",
    "\n",
    "\ttry:\n",
    "\t\tdf = webbrowser.DataReader(input_data, 'yahoo', start, end)\n",
    "\n",
    "\t\tgraph = dcc.Graph(id =\"example\", figure ={\n",
    "\t\t\t'data':[{'x':df.index, 'y':df.Close, 'type':'line', 'name':input_data}],\n",
    "\t\t\t'layout':{\n",
    "\t\t\t\t'title':input_data\n",
    "\t\t\t}\n",
    "\t\t})\n",
    "\n",
    "\texcept:\n",
    "\t\tgraph = html.Div(\"Error retrieving stock data.\")\n",
    "\n",
    "\treturn graph\n"
   ]
  },
  {
   "cell_type": "code",
   "execution_count": 20,
   "metadata": {},
   "outputs": [
    {
     "name": "stdout",
     "output_type": "stream",
     "text": [
      "Dash is running on http://127.0.0.1:8050/\n",
      "\n",
      " * Serving Flask app '__main__'\n",
      " * Debug mode: off\n"
     ]
    },
    {
     "name": "stderr",
     "output_type": "stream",
     "text": [
      "WARNING: This is a development server. Do not use it in a production deployment. Use a production WSGI server instead.\n",
      " * Running on http://127.0.0.1:8050\n",
      "Press CTRL+C to quit\n",
      "127.0.0.1 - - [23/Jun/2023 17:41:12] \"GET / HTTP/1.1\" 200 -\n",
      "127.0.0.1 - - [23/Jun/2023 17:41:13] \"GET /_dash-layout HTTP/1.1\" 200 -\n",
      "127.0.0.1 - - [23/Jun/2023 17:41:13] \"GET /_dash-dependencies HTTP/1.1\" 200 -\n",
      "127.0.0.1 - - [23/Jun/2023 17:41:14] \"GET /_favicon.ico?v=2.10.2 HTTP/1.1\" 200 -\n"
     ]
    }
   ],
   "source": [
    "if __name__ == '__main__':\n",
    "    \tapp.run_server()\n"
   ]
  },
  {
   "cell_type": "code",
   "execution_count": null,
   "metadata": {},
   "outputs": [],
   "source": []
  }
 ],
 "metadata": {
  "kernelspec": {
   "display_name": "Python 3",
   "language": "python",
   "name": "python3"
  },
  "language_info": {
   "codemirror_mode": {
    "name": "ipython",
    "version": 3
   },
   "file_extension": ".py",
   "mimetype": "text/x-python",
   "name": "python",
   "nbconvert_exporter": "python",
   "pygments_lexer": "ipython3",
   "version": "3.10.0"
  },
  "orig_nbformat": 4
 },
 "nbformat": 4,
 "nbformat_minor": 2
}
